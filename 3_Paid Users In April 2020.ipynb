{
 "cells": [
  {
   "cell_type": "markdown",
   "id": "e765ef03",
   "metadata": {},
   "source": [
    "Paid Users In April 2020\n",
    "\n",
    "Last Updated: July 2025\n",
    "Easy\n",
    "ID 2017 \n",
    "How many paid users had any calls in Apr 2020?"
   ]
  },
  {
   "cell_type": "code",
   "execution_count": 26,
   "id": "25c5eb3a",
   "metadata": {},
   "outputs": [],
   "source": [
    "from pyspark.sql import SparkSession\n",
    "from pyspark.sql.types import StructField,StructType,StringType,IntegerType,LongType,TimestampType\n",
    "from pyspark.sql import functions as F"
   ]
  },
  {
   "cell_type": "code",
   "execution_count": 27,
   "id": "fa04f5e1",
   "metadata": {},
   "outputs": [],
   "source": [
    "spark = SparkSession.builder.appName(\"A\").getOrCreate()"
   ]
  },
  {
   "cell_type": "code",
   "execution_count": 28,
   "id": "1e9fcc60",
   "metadata": {},
   "outputs": [],
   "source": [
    "calls_schema = StructType([\n",
    "    StructField(\"user_id\", LongType(), False),\n",
    "    StructField(\"call_id\", LongType(), False),\n",
    "    StructField(\"call_date\", StringType(), False)\n",
    "])\n"
   ]
  },
  {
   "cell_type": "code",
   "execution_count": 29,
   "id": "203752f8",
   "metadata": {},
   "outputs": [],
   "source": [
    "calls_data = [\n",
    "    (1218, 0,  \"2020-04-19 01:06:00\"),\n",
    "    (1554, 1,  \"2020-03-01 16:51:00\"),\n",
    "    (1857, 2,  \"2020-03-29 07:06:00\"),\n",
    "    (1525, 3,  \"2020-03-07 02:01:00\"),\n",
    "    (1271, 4,  \"2020-04-28 21:39:00\"),\n",
    "    (1181, 5,  \"2020-03-18 04:49:00\"),\n",
    "    (1950, 6,  \"2020-04-12 23:57:00\"),\n",
    "    (1339, 7,  \"2020-04-11 02:15:00\"),\n",
    "    (1910, 8,  \"2020-03-21 08:56:00\"),\n",
    "    (1093, 9,  \"2020-03-07 15:47:00\"),\n",
    "    (1859, 10, \"2020-04-25 13:55:00\"),\n",
    "    (1079, 11, \"2020-04-17 16:38:00\"),\n",
    "    (1519, 12, \"2020-04-15 12:14:00\"),\n",
    "    (1854, 13, \"2020-04-25 19:59:00\"),\n",
    "    (1968, 14, \"2020-03-16 21:19:00\"),\n",
    "    (1891, 15, \"2020-03-30 23:11:00\"),\n",
    "    (1575, 16, \"2020-03-14 15:21:00\"),\n",
    "    (1162, 17, \"2020-04-06 18:39:00\"),\n",
    "    (1503, 18, \"2020-04-01 18:31:00\"),\n",
    "    (1884, 19, \"2020-04-08 08:44:00\"),\n",
    "    (1854, 20, \"2020-03-10 10:04:00\"),\n",
    "    (1525, 21, \"2020-03-04 14:44:00\"),\n",
    "    (1181, 22, \"2020-03-02 17:07:00\"),\n",
    "    (1503, 23, \"2020-03-29 11:17:00\"),\n",
    "    (1859, 24, \"2020-04-11 14:26:00\"),\n",
    "    (1859, 25, \"2020-03-13 23:52:00\"),\n",
    "    (1859, 26, \"2020-04-10 00:41:00\"),\n",
    "    (1854, 27, \"2020-03-28 00:35:00\"),\n",
    "    (1891, 28, \"2020-04-27 22:09:00\"),\n",
    "    (1181, 29, \"2020-04-19 06:39:00\"),\n",
    "    (1525, 30, \"2020-04-15 22:27:00\"),\n",
    "    (1093, 31, \"2020-03-17 15:21:00\"),\n",
    "    (1857, 32, \"2020-04-03 02:00:00\"),\n",
    "    (1884, 33, \"2020-03-20 14:41:00\"),\n",
    "    (1950, 34, \"2020-03-17 11:17:00\"),\n",
    "    (1162, 35, \"2020-04-15 03:38:00\"),\n",
    "    (1162, 36, \"2020-03-08 06:47:00\"),\n",
    "    (1891, 37, \"2020-04-22 01:46:00\"),\n",
    "    (1554, 38, \"2020-04-08 05:35:00\"),\n",
    "    (1910, 39, \"2020-03-11 08:33:00\")\n",
    "]"
   ]
  },
  {
   "cell_type": "code",
   "execution_count": null,
   "id": "20e6bbe2",
   "metadata": {},
   "outputs": [],
   "source": [
    "rc_calls = spark.createDataFrame(calls_data, schema=calls_schema)\n",
    "\n",
    "\n",
    "rc_calls = rc_calls.withColumn(\"call_date\", F.to_timestamp(\"call_date\", \"yyyy-MM-dd HH:mm:ss\"))\n",
    "#Spark finds that rc_calls already has a column named call_date.  so overwriting\n",
    "\n"
   ]
  },
  {
   "cell_type": "code",
   "execution_count": 33,
   "id": "ef894317",
   "metadata": {},
   "outputs": [
    {
     "name": "stdout",
     "output_type": "stream",
     "text": [
      "+-------+-------+-------------------+\n",
      "|user_id|call_id|          call_date|\n",
      "+-------+-------+-------------------+\n",
      "|   1218|      0|2020-04-19 01:06:00|\n",
      "|   1554|      1|2020-03-01 16:51:00|\n",
      "|   1857|      2|2020-03-29 07:06:00|\n",
      "|   1525|      3|2020-03-07 02:01:00|\n",
      "|   1271|      4|2020-04-28 21:39:00|\n",
      "|   1181|      5|2020-03-18 04:49:00|\n",
      "|   1950|      6|2020-04-12 23:57:00|\n",
      "|   1339|      7|2020-04-11 02:15:00|\n",
      "|   1910|      8|2020-03-21 08:56:00|\n",
      "|   1093|      9|2020-03-07 15:47:00|\n",
      "|   1859|     10|2020-04-25 13:55:00|\n",
      "|   1079|     11|2020-04-17 16:38:00|\n",
      "|   1519|     12|2020-04-15 12:14:00|\n",
      "|   1854|     13|2020-04-25 19:59:00|\n",
      "|   1968|     14|2020-03-16 21:19:00|\n",
      "|   1891|     15|2020-03-30 23:11:00|\n",
      "|   1575|     16|2020-03-14 15:21:00|\n",
      "|   1162|     17|2020-04-06 18:39:00|\n",
      "|   1503|     18|2020-04-01 18:31:00|\n",
      "|   1884|     19|2020-04-08 08:44:00|\n",
      "+-------+-------+-------------------+\n",
      "only showing top 20 rows\n"
     ]
    }
   ],
   "source": [
    "rc_calls.show()\n"
   ]
  },
  {
   "cell_type": "code",
   "execution_count": 31,
   "id": "abe200bc",
   "metadata": {},
   "outputs": [],
   "source": [
    "users_schema = StructType([\n",
    "    StructField(\"user_id\", LongType(), False),\n",
    "    StructField(\"status\", StringType(), True),\n",
    "    StructField(\"company_id\", LongType(), False)\n",
    "])\n",
    " \n",
    "users_data = [\n",
    "    (1218, \"free\", 1),\n",
    "    (1554, \"inactive\", 1),\n",
    "    (1857, \"free\", 2),\n",
    "    (1525, \"paid\", 1),\n",
    "    (1271, \"inactive\", 2),\n",
    "    (1181, \"inactive\", 2),\n",
    "    (1950, \"free\", 1),\n",
    "    (1339, \"free\", 2),\n",
    "    (1910, \"free\", 2),\n",
    "    (1093, \"paid\", 3),\n",
    "    (1859, \"free\", 1),\n",
    "    (1079, \"paid\", 2),\n",
    "    (1519, \"inactive\", 2),\n",
    "    (1854, \"paid\", 1),\n",
    "    (1968, \"inactive\", 2),\n",
    "    (1891, \"paid\", 2),\n",
    "    (1575, \"free\", 2),\n",
    "    (1162, \"paid\", 2),\n",
    "    (1503, \"inactive\", 3),\n",
    "    (1884, \"free\", 1)\n",
    "] \n",
    "rc_users = spark.createDataFrame(users_data, schema=users_schema)\n"
   ]
  },
  {
   "cell_type": "code",
   "execution_count": 32,
   "id": "e27438c5",
   "metadata": {},
   "outputs": [
    {
     "name": "stdout",
     "output_type": "stream",
     "text": [
      "+-------+--------+----------+\n",
      "|user_id|  status|company_id|\n",
      "+-------+--------+----------+\n",
      "|   1218|    free|         1|\n",
      "|   1554|inactive|         1|\n",
      "|   1857|    free|         2|\n",
      "|   1525|    paid|         1|\n",
      "|   1271|inactive|         2|\n",
      "|   1181|inactive|         2|\n",
      "|   1950|    free|         1|\n",
      "|   1339|    free|         2|\n",
      "|   1910|    free|         2|\n",
      "|   1093|    paid|         3|\n",
      "|   1859|    free|         1|\n",
      "|   1079|    paid|         2|\n",
      "|   1519|inactive|         2|\n",
      "|   1854|    paid|         1|\n",
      "|   1968|inactive|         2|\n",
      "|   1891|    paid|         2|\n",
      "|   1575|    free|         2|\n",
      "|   1162|    paid|         2|\n",
      "|   1503|inactive|         3|\n",
      "|   1884|    free|         1|\n",
      "+-------+--------+----------+\n",
      "\n"
     ]
    }
   ],
   "source": [
    "rc_users.show()"
   ]
  },
  {
   "cell_type": "code",
   "execution_count": 34,
   "id": "b1a70add",
   "metadata": {},
   "outputs": [
    {
     "name": "stdout",
     "output_type": "stream",
     "text": [
      "+-------+-------+-------------------+\n",
      "|user_id|call_id|          call_date|\n",
      "+-------+-------+-------------------+\n",
      "|   1218|      0|2020-04-19 01:06:00|\n",
      "|   1554|      1|2020-03-01 16:51:00|\n",
      "|   1857|      2|2020-03-29 07:06:00|\n",
      "|   1525|      3|2020-03-07 02:01:00|\n",
      "|   1271|      4|2020-04-28 21:39:00|\n",
      "|   1181|      5|2020-03-18 04:49:00|\n",
      "|   1950|      6|2020-04-12 23:57:00|\n",
      "|   1339|      7|2020-04-11 02:15:00|\n",
      "|   1910|      8|2020-03-21 08:56:00|\n",
      "|   1093|      9|2020-03-07 15:47:00|\n",
      "|   1859|     10|2020-04-25 13:55:00|\n",
      "|   1079|     11|2020-04-17 16:38:00|\n",
      "|   1519|     12|2020-04-15 12:14:00|\n",
      "|   1854|     13|2020-04-25 19:59:00|\n",
      "|   1968|     14|2020-03-16 21:19:00|\n",
      "|   1891|     15|2020-03-30 23:11:00|\n",
      "|   1575|     16|2020-03-14 15:21:00|\n",
      "|   1162|     17|2020-04-06 18:39:00|\n",
      "|   1503|     18|2020-04-01 18:31:00|\n",
      "|   1884|     19|2020-04-08 08:44:00|\n",
      "+-------+-------+-------------------+\n",
      "only showing top 20 rows\n"
     ]
    }
   ],
   "source": [
    "rc_calls.show()"
   ]
  },
  {
   "cell_type": "code",
   "execution_count": 35,
   "id": "b3419e15",
   "metadata": {},
   "outputs": [],
   "source": [
    "# # \n",
    "\n",
    "# How many paid users had any calls in Apr 2020?"
   ]
  },
  {
   "cell_type": "code",
   "execution_count": 38,
   "id": "3a2aaacc",
   "metadata": {},
   "outputs": [
    {
     "name": "stdout",
     "output_type": "stream",
     "text": [
      "+-------+-------+-------------------+-------+------+----------+\n",
      "|user_id|call_id|call_date          |user_id|status|company_id|\n",
      "+-------+-------+-------------------+-------+------+----------+\n",
      "|1079   |11     |2020-04-17 16:38:00|1079   |paid  |2         |\n",
      "|1162   |17     |2020-04-06 18:39:00|1162   |paid  |2         |\n",
      "|1162   |35     |2020-04-15 03:38:00|1162   |paid  |2         |\n",
      "|1525   |30     |2020-04-15 22:27:00|1525   |paid  |1         |\n",
      "|1854   |13     |2020-04-25 19:59:00|1854   |paid  |1         |\n",
      "|1891   |28     |2020-04-27 22:09:00|1891   |paid  |2         |\n",
      "|1891   |37     |2020-04-22 01:46:00|1891   |paid  |2         |\n",
      "+-------+-------+-------------------+-------+------+----------+\n",
      "\n"
     ]
    }
   ],
   "source": [
    "rc_join = rc_calls.alias('c').join( rc_users.alias('u'), F.col('c.user_id') == F.col('u.user_id') , \"inner\").where(F.col('u.status') == 'paid').where(F.col(\"c.call_date\").between(\"2020-04-01\", \"2020-04-30\")) \n",
    "rc_join.show(truncate= False)"
   ]
  },
  {
   "cell_type": "markdown",
   "id": "d2a3ffba",
   "metadata": {},
   "source": [
    "# output"
   ]
  },
  {
   "cell_type": "code",
   "execution_count": 42,
   "id": "234bb4a4",
   "metadata": {},
   "outputs": [
    {
     "name": "stdout",
     "output_type": "stream",
     "text": [
      "5\n"
     ]
    }
   ],
   "source": [
    "paid_users_apr_count = rc_join.select('c.user_id').distinct().count()\n",
    "print(paid_users_apr_count)"
   ]
  },
  {
   "cell_type": "code",
   "execution_count": 43,
   "id": "bd963ff6",
   "metadata": {},
   "outputs": [
    {
     "name": "stdout",
     "output_type": "stream",
     "text": [
      "+----------------+\n",
      "|paid_users_count|\n",
      "+----------------+\n",
      "|               5|\n",
      "+----------------+\n",
      "\n"
     ]
    }
   ],
   "source": [
    "\n",
    "paid_users_apr_count = rc_join .select(\"c.user_id\").distinct().agg(F.count(\"*\").alias(\"paid_users_count\"))  # aggregate count)\n",
    "\n",
    "paid_users_apr_count.show()"
   ]
  }
 ],
 "metadata": {
  "kernelspec": {
   "display_name": "3.11.6",
   "language": "python",
   "name": "python3"
  },
  "language_info": {
   "codemirror_mode": {
    "name": "ipython",
    "version": 3
   },
   "file_extension": ".py",
   "mimetype": "text/x-python",
   "name": "python",
   "nbconvert_exporter": "python",
   "pygments_lexer": "ipython3",
   "version": "3.11.6"
  }
 },
 "nbformat": 4,
 "nbformat_minor": 5
}
